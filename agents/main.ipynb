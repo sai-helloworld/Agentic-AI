{
 "cells": [
  {
   "cell_type": "code",
   "execution_count": 30,
   "id": "b8094314",
   "metadata": {},
   "outputs": [],
   "source": [
    "from langgraph.graph import StateGraph\n",
    "from typing import TypedDict, List, Optional"
   ]
  },
  {
   "cell_type": "code",
   "execution_count": 38,
   "id": "0c262e7c",
   "metadata": {},
   "outputs": [],
   "source": [
    "class AgentState(TypedDict):\n",
    "    name: Optional[str]\n",
    "    age: int\n",
    "    final: str\n",
    "    # name = 'first'"
   ]
  },
  {
   "cell_type": "code",
   "execution_count": 39,
   "id": "fb3ecc32",
   "metadata": {},
   "outputs": [],
   "source": [
    "def first_node(state:AgentState):\n",
    "    \"\"\"This is the first node of the sequence\"\"\"\n",
    "\n",
    "    state['final'] = f'Hi {state['name']}'\n",
    "    return state\n",
    "\n",
    "def second_node(state:AgentState):\n",
    "    \"\"\"This is the second node of the sequence\"\"\"\n",
    "\n",
    "    state['final'] += f' you are {state['age']} years old'\n",
    "    return state"
   ]
  },
  {
   "cell_type": "code",
   "execution_count": 40,
   "id": "7600fb24",
   "metadata": {},
   "outputs": [],
   "source": [
    "\n",
    "\n",
    "mygraph = StateGraph(AgentState)\n",
    "mygraph.add_node('first_node',first_node)\n",
    "mygraph.add_node('second_node',second_node)\n",
    "mygraph.set_entry_point('first_node')\n",
    "mygraph.set_finish_point('second_node')\n",
    "mygraph.add_edge('first_node','second_node')\n",
    "app = mygraph.compile()\n",
    "# mygraph.invoke()"
   ]
  },
  {
   "cell_type": "code",
   "execution_count": 23,
   "id": "59b306d9",
   "metadata": {},
   "outputs": [
    {
     "data": {
      "image/png": "[encoded data removed]",
      "text/plain": [
       "<IPython.core.display.Image object>"
      ]
     },
     "metadata": {
      "image/png": {
       "height": 500
      }
     },
     "output_type": "display_data"
    }
   ],
   "source": [
    "from IPython.display import display, Image\n",
    "display(Image(app.get_graph().draw_mermaid_png(),height=500))"
   ]
  },
  {
   "cell_type": "code",
   "execution_count": 43,
   "id": "1142e067",
   "metadata": {},
   "outputs": [],
   "source": [
    "result = app.invoke({'name': '', 'age': 21})"
   ]
  },
  {
   "cell_type": "code",
   "execution_count": 44,
   "id": "43c55dcc",
   "metadata": {},
   "outputs": [
    {
     "name": "stdout",
     "output_type": "stream",
     "text": [
      "Hi  you are 21 years old\n"
     ]
    }
   ],
   "source": [
    "print(result['final'])"
   ]
  },
  {
   "cell_type": "markdown",
   "id": "a0dead3e",
   "metadata": {},
   "source": [
    "Conditional Edges\n"
   ]
  },
  {
   "cell_type": "code",
   "execution_count": 45,
   "id": "b7aba144",
   "metadata": {},
   "outputs": [],
   "source": [
    "from langgraph.graph import StateGraph, START, END\n",
    "from typing import TypedDict"
   ]
  },
  {
   "cell_type": "code",
   "execution_count": 49,
   "id": "9cd97c78",
   "metadata": {},
   "outputs": [],
   "source": [
    "class AgentState(TypedDict):\n",
    "    number1 : int\n",
    "    number2 : int\n",
    "    operation : str\n",
    "    finalnumber :int"
   ]
  },
  {
   "cell_type": "code",
   "execution_count": 67,
   "id": "1aa0615f",
   "metadata": {},
   "outputs": [],
   "source": [
    "def addition_func(state:AgentState):\n",
    "    \"\"\"this is the addition nod\"\"\"\n",
    "    state['finalnumber'] = state['number1'] + state['number2']\n",
    "    return state\n",
    "def subtraction_func(state:AgentState):\n",
    "    '''this is the subtraction node\n",
    "    '''\n",
    "    state['finalnumber'] = state['number1'] - state['number2']\n",
    "    return state\n",
    "def router_next_node_func(state:AgentState):\n",
    "    \"\"\"this is the router node\"\"\"\n",
    "    if state['operation'] == '+':\n",
    "        return 'addition_operation'\n",
    "    elif state['operation'] == '-':\n",
    "        return 'subtraction_operation'"
   ]
  },
  {
   "cell_type": "code",
   "execution_count": 68,
   "id": "d6ce8e8a",
   "metadata": {},
   "outputs": [],
   "source": [
    "graph = StateGraph(AgentState)\n",
    "\n",
    "graph.add_node('router', lambda state: state)\n",
    "graph.add_node('addition_node', addition_func )\n",
    "graph.add_node('subtraction_node', subtraction_func)\n",
    "graph.add_edge(START, 'router')\n",
    "graph.add_conditional_edges(\n",
    "    'router',\n",
    "    router_next_node_func,\n",
    "    {\n",
    "        'addition_operation':'addition_node',\n",
    "        'subtraction_operatation': 'subtraction_node'\n",
    "    }\n",
    ")\n",
    "graph.add_edge('addition_node',END)\n",
    "graph.add_edge('subtraction_node',END)\n",
    "graph= graph.compile()"
   ]
  },
  {
   "cell_type": "code",
   "execution_count": 69,
   "id": "420fc36c",
   "metadata": {},
   "outputs": [
    {
     "data": {
      "image/png": "[encoded data removed]",
      "text/plain": [
       "<IPython.core.display.Image object>"
      ]
     },
     "metadata": {},
     "output_type": "display_data"
    }
   ],
   "source": [
    "# from Ipython.display import display, Image\n",
    "from IPython.display import display, Image\n",
    "display(Image(graph.get_graph().draw_mermaid_png()))"
   ]
  },
  {
   "cell_type": "code",
   "execution_count": 70,
   "id": "d4a557e6",
   "metadata": {},
   "outputs": [],
   "source": [
    "ans1 = graph.invoke({'number1':1, 'number2': 10, 'operation': '+'})"
   ]
  },
  {
   "cell_type": "code",
   "execution_count": 71,
   "id": "4a15a612",
   "metadata": {},
   "outputs": [
    {
     "name": "stdout",
     "output_type": "stream",
     "text": [
      "{'number1': 1, 'number2': 10, 'operation': '+', 'finalnumber': 11}\n"
     ]
    }
   ],
   "source": [
    "print(ans1)"
   ]
  }
 ],
 "metadata": {
  "kernelspec": {
   "display_name": ".venv",
   "language": "python",
   "name": "python3"
  },
  "language_info": {
   "codemirror_mode": {
    "name": "ipython",
    "version": 3
   },
   "file_extension": ".py",
   "mimetype": "text/x-python",
   "name": "python",
   "nbconvert_exporter": "python",
   "pygments_lexer": "ipython3",
   "version": "3.13.5"
  }
 },
 "nbformat": 4,
 "nbformat_minor": 5
}
