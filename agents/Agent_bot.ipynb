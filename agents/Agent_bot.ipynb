{
 "cells": [
  {
   "cell_type": "code",
   "execution_count": 3,
   "id": "ce7f77a7",
   "metadata": {},
   "outputs": [],
   "source": [
    "from typing import TypedDict, List\n",
    "from langgraph.graph import START, END, StateGraph\n",
    "from langchain_groq import ChatGroq\n",
    "from langchain.chat_models import init_chat_model\n",
    "from langchain_core.messages import HumanMessage"
   ]
  },
  {
   "cell_type": "code",
   "execution_count": 2,
   "id": "75c0ef57",
   "metadata": {},
   "outputs": [],
   "source": [
    "llm = ChatGroq(model=\"llama3-8b-8192\")\n"
   ]
  },
  {
   "cell_type": "code",
   "execution_count": 3,
   "id": "e8b84634",
   "metadata": {},
   "outputs": [],
   "source": [
    "result = llm.invoke('hi')"
   ]
  },
  {
   "cell_type": "code",
   "execution_count": 4,
   "id": "7e20a58f",
   "metadata": {},
   "outputs": [
    {
     "name": "stdout",
     "output_type": "stream",
     "text": [
      "content=\"Hi! It's nice to meet you. Is there something I can help you with or would you like to chat?\" additional_kwargs={} response_metadata={'token_usage': {'completion_tokens': 25, 'prompt_tokens': 11, 'total_tokens': 36, 'completion_time': 0.018618179, 'prompt_time': 0.001741807, 'queue_time': 0.236118624, 'total_time': 0.020359986}, 'model_name': 'llama3-8b-8192', 'system_fingerprint': 'fp_ec364e7642', 'service_tier': 'on_demand', 'finish_reason': 'stop', 'logprobs': None} id='run--c7ebf9a6-43b3-4ef4-8f77-f236079b3cb1-0' usage_metadata={'input_tokens': 11, 'output_tokens': 25, 'total_tokens': 36}\n"
     ]
    }
   ],
   "source": [
    "print(result)"
   ]
  },
  {
   "cell_type": "code",
   "execution_count": 5,
   "id": "2e2aa2c7",
   "metadata": {},
   "outputs": [],
   "source": [
    "class AgentState(TypedDict):\n",
    "    messages : List[HumanMessage]\n",
    "def process(state: AgentState) -> AgentState:\n",
    "    response = llm.invoke(state['messages'])\n",
    "    print(f'\\n AI: {response.content}')\n"
   ]
  },
  {
   "cell_type": "code",
   "execution_count": null,
   "id": "c85517f5",
   "metadata": {},
   "outputs": [
    {
     "name": "stdout",
     "output_type": "stream",
     "text": [
      "\n",
      " AI: Hi! It's nice to meet you. Is there something I can help you with, or would you like to chat?\n"
     ]
    },
    {
     "data": {
      "text/plain": [
       "{'messages': [HumanMessage(content='hi', additional_kwargs={}, response_metadata={})]}"
      ]
     },
     "execution_count": 15,
     "metadata": {},
     "output_type": "execute_result"
    }
   ],
   "source": [
    "graph = StateGraph(AgentState)\n",
    "graph.add_node(\"process\", process)\n",
    "graph.add_edge(START, 'process')\n",
    "graph.add_edge(\"process\", END)\n",
    "agent = graph.compile()\n",
    "user_input = input('ask me anything')\n",
    "a = AgentState()\n",
    "a['messages']=[HumanMessage(content=user_input)]\n",
    "agent.invoke(a)"
   ]
  },
  {
   "cell_type": "code",
   "execution_count": null,
   "id": "0440269e",
   "metadata": {},
   "outputs": [
    {
     "name": "stdout",
     "output_type": "stream",
     "text": [
      "<method 'items' of 'dict' objects>\n"
     ]
    }
   ],
   "source": [
    "print(AgentState.items)"
   ]
  }
 ],
 "metadata": {
  "kernelspec": {
   "display_name": ".venv",
   "language": "python",
   "name": "python3"
  },
  "language_info": {
   "codemirror_mode": {
    "name": "ipython",
    "version": 3
   },
   "file_extension": ".py",
   "mimetype": "text/x-python",
   "name": "python",
   "nbconvert_exporter": "python",
   "pygments_lexer": "ipython3",
   "version": "3.13.5"
  }
 },
 "nbformat": 4,
 "nbformat_minor": 5
}
