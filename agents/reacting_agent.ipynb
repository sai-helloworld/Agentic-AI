{
 "cells": [
  {
   "cell_type": "code",
   "execution_count": 7,
   "id": "2c290b68",
   "metadata": {},
   "outputs": [],
   "source": [
    "from typing import Annotated, Sequence, TypedDict\n",
    "# from dotenv import load_dotenv  \n",
    "from langchain_core.messages import BaseMessage # The foundational class for all message types in LangGraph\n",
    "from langchain_core.messages import ToolMessage # Passes data back to LLM after it calls a tool such as the content and the tool_call_id\n",
    "from langchain_core.messages import SystemMessage # Message for providing instructions to the LLM\n",
    "from langchain_groq import ChatGroq\n",
    "from langchain_core.tools import tool\n",
    "from langgraph.graph.message import add_messages\n",
    "from langgraph.graph import StateGraph, END\n",
    "from langgraph.prebuilt import ToolNode\n",
    "from langgraph.prebuilt import tools_condition\n",
    "\n",
    "\n",
    "# load_dotenv()\n",
    "\n",
    "class AgentState(TypedDict):\n",
    "    messages: Annotated[Sequence[BaseMessage], add_messages]\n",
    "\n",
    "\n",
    "@tool\n",
    "def add(a: int, b:int):\n",
    "    \"\"\"This is an addition function that adds 2 numbers together\"\"\"\n",
    "\n",
    "    return a + b \n",
    "\n",
    "@tool\n",
    "def subtract(a: int, b: int):\n",
    "    \"\"\"Subtraction function\"\"\"\n",
    "    return a - b\n",
    "\n",
    "@tool\n",
    "def multiply(a: int, b: int):\n",
    "    \"\"\"Multiplication function\"\"\"\n",
    "    return a * b\n",
    "\n",
    "tools = [add, subtract, multiply]\n",
    "\n",
    "model = ChatGroq(model='llama3-8b-8192')\n",
    "\n",
    "\n",
    "def model_call(state:AgentState) -> AgentState:\n",
    "    system_prompt = SystemMessage(content=\n",
    "        \"You are my AI assistant, please answer my query to the best of your ability.\"\n",
    "    )\n",
    "    response = model.invoke([system_prompt] + state[\"messages\"])\n",
    "    return {\"messages\": [response]}\n",
    "\n",
    "\n",
    "def should_continue(state: AgentState): \n",
    "    messages = state[\"messages\"]\n",
    "    last_message = messages[-1]\n",
    "    if not last_message.tool_calls: \n",
    "        return \"end\"\n",
    "    else:\n",
    "        return \"continue\"\n",
    "    \n",
    "\n",
    "graph = StateGraph(AgentState)\n",
    "graph.add_node(\"our_agent\", model_call)\n",
    "\n",
    "\n",
    "tool_node = ToolNode(tools=tools)\n",
    "graph.add_node(\"tools\", tool_node)\n",
    "\n",
    "graph.set_entry_point(\"our_agent\")\n",
    "\n",
    "graph.add_conditional_edges(\n",
    "    \"our_agent\",\n",
    "    # should_continue,\n",
    "    # {\n",
    "    #     \"continue\": \"tools\",\n",
    "    #     \"end\": END,\n",
    "    # },\n",
    "    tools_condition\n",
    ")\n",
    "\n",
    "graph.add_edge(\"tools\", \"our_agent\")\n",
    "\n",
    "app = graph.compile()\n",
    "\n",
    "def print_stream(stream):\n",
    "    for s in stream:\n",
    "        message = s[\"messages\"][-1]\n",
    "        if isinstance(message, tuple):\n",
    "            print(message)\n",
    "        else:\n",
    "            message.pretty_print()\n",
    "\n"
   ]
  },
  {
   "cell_type": "code",
   "execution_count": 8,
   "id": "11fbad8e",
   "metadata": {},
   "outputs": [
    {
     "data": {
      "image/png": "[encoded data removed]",
      "text/plain": [
       "<IPython.core.display.Image object>"
      ]
     },
     "metadata": {},
     "output_type": "display_data"
    }
   ],
   "source": [
    "from IPython.display import display, Image\n",
    "display(Image(app.get_graph().draw_mermaid_png()))"
   ]
  },
  {
   "cell_type": "code",
   "execution_count": 9,
   "id": "adc6f1b0",
   "metadata": {},
   "outputs": [
    {
     "name": "stdout",
     "output_type": "stream",
     "text": [
      "================================\u001b[1m Human Message \u001b[0m=================================\n",
      "\n",
      "Add 40 + 12 and then multiply the result by 2\n",
      "==================================\u001b[1m Ai Message \u001b[0m==================================\n",
      "\n",
      "Let's follow your instructions:\n",
      "\n",
      "1. Add 40 + 12:\n",
      "40 + 12 = 52\n",
      "\n",
      "2. Multiply the result by 2:\n",
      "52 × 2 = 104\n",
      "\n",
      "So, the final answer is 104!\n"
     ]
    }
   ],
   "source": [
    "inputs = {\"messages\": [(\"user\", \"Add 40 + 12 and then multiply the result by 2\")]}\n",
    "print_stream(app.stream(inputs, stream_mode=\"values\"))"
   ]
  },
  {
   "cell_type": "code",
   "execution_count": 5,
   "id": "586eb169",
   "metadata": {},
   "outputs": [
    {
     "name": "stdout",
     "output_type": "stream",
     "text": [
      "================================\u001b[1m Human Message \u001b[0m=================================\n",
      "\n",
      "Add 40 + 12 and then multiply the result by 2 and tell me a joke\n",
      "==================================\u001b[1m Ai Message \u001b[0m==================================\n",
      "\n",
      "Let's do the math first!\n",
      "\n",
      "40 + 12 = 52\n",
      "\n",
      "Then, let's multiply the result by 2:\n",
      "\n",
      "52 × 2 = 104\n",
      "\n",
      "And now, here's a joke:\n",
      "\n",
      "Why don't scientists trust atoms?\n",
      "\n",
      "Because they make up everything!\n",
      "\n",
      "I hope that made you smile!\n"
     ]
    }
   ],
   "source": [
    "inputs = {\"messages\": [(\"user\", \"Add 40 + 12 and then multiply the result by 2 and tell me a joke\")]}\n",
    "print_stream(app.stream(inputs, stream_mode=\"values\"))"
   ]
  }
 ],
 "metadata": {
  "kernelspec": {
   "display_name": ".venv",
   "language": "python",
   "name": "python3"
  },
  "language_info": {
   "codemirror_mode": {
    "name": "ipython",
    "version": 3
   },
   "file_extension": ".py",
   "mimetype": "text/x-python",
   "name": "python",
   "nbconvert_exporter": "python",
   "pygments_lexer": "ipython3",
   "version": "3.13.5"
  }
 },
 "nbformat": 4,
 "nbformat_minor": 5
}
